{
 "cells": [
  {
   "attachments": {},
   "cell_type": "markdown",
   "metadata": {},
   "source": [
    "# PyTorch\n"
   ]
  },
  {
   "attachments": {},
   "cell_type": "markdown",
   "metadata": {},
   "source": [
    "## Set Up"
   ]
  },
  {
   "cell_type": "code",
   "execution_count": 1,
   "metadata": {},
   "outputs": [],
   "source": [
    "import numpy as np\n",
    "import torch"
   ]
  },
  {
   "cell_type": "code",
   "execution_count": 2,
   "metadata": {},
   "outputs": [],
   "source": [
    "SEED = 13"
   ]
  },
  {
   "cell_type": "code",
   "execution_count": 3,
   "metadata": {},
   "outputs": [
    {
     "data": {
      "text/plain": [
       "<torch._C.Generator at 0x7f8a09ee92b0>"
      ]
     },
     "execution_count": 3,
     "metadata": {},
     "output_type": "execute_result"
    }
   ],
   "source": [
    "np.random.seed(SEED)\n",
    "torch.manual_seed(SEED)"
   ]
  },
  {
   "attachments": {},
   "cell_type": "markdown",
   "metadata": {},
   "source": [
    "## Basics"
   ]
  },
  {
   "cell_type": "code",
   "execution_count": 4,
   "metadata": {},
   "outputs": [
    {
     "name": "stdout",
     "output_type": "stream",
     "text": [
      "Type: torch.FloatTensor\n",
      "Shape: torch.Size([2, 3])\n",
      "Size: torch.Size([2, 3])\n",
      "Values: \n",
      "tensor([[-0.1117, -1.1456,  1.4103],\n",
      "        [ 1.3654,  1.1206, -0.9622]])\n"
     ]
    }
   ],
   "source": [
    "x = torch.randn(2, 3) # 2x3 tensor with elements sampled from standard normal distribution\n",
    "print(f\"Type: {x.type()}\")\n",
    "print(f\"Shape: {x.shape}\") # x.shape[0] = 2, x.shape[1] = 3\n",
    "print(f\"Size: {x.size()}\") # x.size(0) = 2, x.size(1) = 3\n",
    "print(f\"Values: \\n{x}\")\n"
   ]
  },
  {
   "cell_type": "code",
   "execution_count": 5,
   "metadata": {},
   "outputs": [
    {
     "name": "stdout",
     "output_type": "stream",
     "text": [
      "tensor([[0., 0., 0.],\n",
      "        [0., 0., 0.]])\n",
      "tensor([[1., 1., 1.],\n",
      "        [1., 1., 1.]])\n"
     ]
    }
   ],
   "source": [
    "x = torch.zeros(2, 3)\n",
    "print(x)\n",
    "x = torch.ones(2, 3)\n",
    "print(x)"
   ]
  },
  {
   "cell_type": "code",
   "execution_count": 6,
   "metadata": {},
   "outputs": [
    {
     "name": "stdout",
     "output_type": "stream",
     "text": [
      "Size: torch.Size([2, 3])\n",
      "Values: \n",
      "tensor([[1., 2., 3.],\n",
      "        [4., 5., 6.]])\n"
     ]
    }
   ],
   "source": [
    "x = torch.Tensor([[1, 2, 3], [4, 5, 6]])\n",
    "print(f\"Size: {x.shape}\")\n",
    "print(f\"Values: \\n{x}\")"
   ]
  },
  {
   "cell_type": "code",
   "execution_count": 7,
   "metadata": {},
   "outputs": [
    {
     "name": "stdout",
     "output_type": "stream",
     "text": [
      "Size: torch.Size([3, 4])\n",
      "Type: torch.FloatTensor\n",
      "Values: \n",
      "tensor([[0., 0., 0., 0.],\n",
      "        [0., 0., 0., 0.],\n",
      "        [0., 0., 0., 0.]])\n",
      "Type: torch.LongTensor\n",
      "Values: \n",
      "tensor([[0, 0, 0, 0],\n",
      "        [0, 0, 0, 0],\n",
      "        [0, 0, 0, 0]])\n"
     ]
    }
   ],
   "source": [
    "x = torch.Tensor(3, 4)\n",
    "print(f\"Size: {x.shape}\")\n",
    "print(f\"Type: {x.type()}\")\n",
    "print(f\"Values: \\n{x}\")\n",
    "\n",
    "x = x.long()\n",
    "print(f\"Type: {x.type()}\")\n",
    "print(f\"Values: \\n{x}\")"
   ]
  },
  {
   "attachments": {},
   "cell_type": "markdown",
   "metadata": {},
   "source": [
    "## Operations"
   ]
  },
  {
   "cell_type": "code",
   "execution_count": 8,
   "metadata": {},
   "outputs": [
    {
     "name": "stdout",
     "output_type": "stream",
     "text": [
      "Size: torch.Size([3, 5])\n",
      "Values: \n",
      "tensor([[-1.1098,  1.7537,  2.4030, -0.2083,  0.7284],\n",
      "        [ 0.2871, -0.4396,  1.1117, -3.1672, -0.6673],\n",
      "        [ 0.8865, -3.7948,  0.9182,  2.0378, -0.1944]])\n"
     ]
    }
   ],
   "source": [
    "# Addition\n",
    "x = torch.randn(3, 5)\n",
    "y = torch.randn(3, 5)\n",
    "z = x + y\n",
    "print(f\"Size: {z.shape}\")\n",
    "print(f\"Values: \\n{z}\")\n"
   ]
  },
  {
   "cell_type": "code",
   "execution_count": 9,
   "metadata": {},
   "outputs": [
    {
     "name": "stdout",
     "output_type": "stream",
     "text": [
      "Size: torch.Size([3, 3])\n",
      "Values: \n",
      "tensor([[-1.6036, -0.9863, -0.7855],\n",
      "        [ 3.3653, -1.2471, -1.9053],\n",
      "        [-1.6671,  0.2078,  0.2509]])\n"
     ]
    }
   ],
   "source": [
    "# Dot product\n",
    "x = torch.randn(3, 5)\n",
    "y = torch.randn(5, 3)\n",
    "z = torch.mm(x, y)\n",
    "print(f\"Size: {z.shape}\")\n",
    "print(f\"Values: \\n{z}\")"
   ]
  },
  {
   "cell_type": "code",
   "execution_count": 10,
   "metadata": {},
   "outputs": [
    {
     "name": "stdout",
     "output_type": "stream",
     "text": [
      "Size: torch.Size([3, 5])\n",
      "Values: \n",
      "tensor([[ 0.3487, -0.6250,  0.7299,  1.0591,  1.4792],\n",
      "        [ 0.3538, -0.0571,  0.9229,  1.5556,  0.5269],\n",
      "        [-0.0355,  0.4734, -1.5904,  1.5382,  0.5864]])\n",
      "Size: torch.Size([5, 3])\n",
      "Values: \n",
      "tensor([[ 0.3487,  0.3538, -0.0355],\n",
      "        [-0.6250, -0.0571,  0.4734],\n",
      "        [ 0.7299,  0.9229, -1.5904],\n",
      "        [ 1.0591,  1.5556,  1.5382],\n",
      "        [ 1.4792,  0.5269,  0.5864]])\n"
     ]
    }
   ],
   "source": [
    "# Transpose\n",
    "x = torch.randn(3, 5)\n",
    "print(f\"Size: {x.shape}\")\n",
    "print(f\"Values: \\n{x}\")\n",
    "\n",
    "y = torch.t(x)\n",
    "print(f\"Size: {y.shape}\")\n",
    "print(F\"Values: \\n{y}\")\n"
   ]
  },
  {
   "cell_type": "code",
   "execution_count": 11,
   "metadata": {},
   "outputs": [
    {
     "name": "stdout",
     "output_type": "stream",
     "text": [
      "Size: torch.Size([5, 3])\n",
      "Values: \n",
      "tensor([[-0.4355,  1.1272,  0.8872],\n",
      "        [ 2.0036, -0.6989,  0.3956],\n",
      "        [ 1.9219,  2.0461, -0.8952],\n",
      "        [-1.3377, -1.9918,  1.0226],\n",
      "        [-1.2937, -0.8858,  2.0733]])\n"
     ]
    }
   ],
   "source": [
    "# Reshape\n",
    "x = torch.randn(3, 5)\n",
    "z = x.view(5, 3) # view() is similar to numpy's reshape()\n",
    "print(f\"Size: {z.shape}\")\n",
    "print(f\"Values: \\n{z}\")\n"
   ]
  },
  {
   "cell_type": "code",
   "execution_count": 12,
   "metadata": {},
   "outputs": [
    {
     "name": "stdout",
     "output_type": "stream",
     "text": [
      "Size: torch.Size([2, 3, 4])\n",
      "x: \n",
      "tensor([[[ 1,  1,  1,  1],\n",
      "         [ 2,  2,  2,  2],\n",
      "         [ 3,  3,  3,  3]],\n",
      "\n",
      "        [[10, 10, 10, 10],\n",
      "         [20, 20, 20, 20],\n",
      "         [30, 30, 30, 30]]])\n",
      "\n",
      "\n",
      "Size: torch.Size([3, 8])\n",
      "a: \n",
      "tensor([[ 1,  1,  1,  1,  2,  2,  2,  2],\n",
      "        [ 3,  3,  3,  3, 10, 10, 10, 10],\n",
      "        [20, 20, 20, 20, 30, 30, 30, 30]])\n",
      "\n",
      "\n",
      "Size: torch.Size([3, 2, 4])\n",
      "b: \n",
      "tensor([[[ 1,  1,  1,  1],\n",
      "         [10, 10, 10, 10]],\n",
      "\n",
      "        [[ 2,  2,  2,  2],\n",
      "         [20, 20, 20, 20]],\n",
      "\n",
      "        [[ 3,  3,  3,  3],\n",
      "         [30, 30, 30, 30]]])\n",
      "\n",
      "\n",
      "Size: torch.Size([3, 8])\n",
      "c: \n",
      "tensor([[ 1,  1,  1,  1, 10, 10, 10, 10],\n",
      "        [ 2,  2,  2,  2, 20, 20, 20, 20],\n",
      "        [ 3,  3,  3,  3, 30, 30, 30, 30]])\n"
     ]
    }
   ],
   "source": [
    "# Dangers of reshaping (unintended consequences)\n",
    "x = torch.tensor([\n",
    "    [[1,1,1,1], [2,2,2,2], [3,3,3,3]],\n",
    "    [[10,10,10,10], [20,20,20,20], [30,30,30,30]]\n",
    "])\n",
    "print(f\"Size: {x.shape}\")\n",
    "print(f\"x: \\n{x}\\n\")\n",
    "\n",
    "a = x.view(x.size(1), -1)\n",
    "print(f\"\\nSize: {a.shape}\")\n",
    "print(f\"a: \\n{a}\\n\")\n",
    "\n",
    "b = x.transpose(0,1).contiguous()\n",
    "print(f\"\\nSize: {b.shape}\")\n",
    "print(f\"b: \\n{b}\\n\")\n",
    "\n",
    "c = b.view(b.size(0), -1)\n",
    "print(f\"\\nSize: {c.shape}\")\n",
    "print(f\"c: \\n{c}\")"
   ]
  },
  {
   "cell_type": "code",
   "execution_count": 13,
   "metadata": {},
   "outputs": [
    {
     "name": "stdout",
     "output_type": "stream",
     "text": [
      "Values: \n",
      "tensor([[[-1.6802, -0.2643, -2.4211, -0.4847,  0.8751],\n",
      "         [-0.3173,  0.9739,  1.2828,  1.9910,  1.2427],\n",
      "         [-0.8392, -0.3355,  0.6086, -2.8491, -0.2504]],\n",
      "\n",
      "        [[ 0.1026,  1.2805,  1.2924,  0.1837,  0.8709],\n",
      "         [-1.2112,  1.7930, -0.3857, -0.2274,  1.2998],\n",
      "         [ 0.4570,  1.2515, -1.3627, -0.3052, -0.2291]]])\n",
      "Values: \n",
      "tensor([[-1.5776,  1.0162, -1.1286, -0.3011,  1.7461],\n",
      "        [-1.5286,  2.7669,  0.8971,  1.7636,  2.5425],\n",
      "        [-0.3822,  0.9159, -0.7541, -3.1543, -0.4794]])\n",
      "Shape: torch.Size([3, 5])\n",
      "Values: \n",
      "tensor([[-2.8368,  0.3740, -0.5296, -1.3429,  1.8675],\n",
      "        [-0.6516,  4.3250, -0.4559, -0.3489,  1.9417]])\n",
      "Shape: torch.Size([2, 5])\n"
     ]
    }
   ],
   "source": [
    "# Dimensional Operations\n",
    "\n",
    "x = torch.randn(2, 3, 5)\n",
    "print(f\"Values: \\n{x}\")\n",
    "\n",
    "y = torch.sum(x, dim=0)\n",
    "print(f\"Values: \\n{y}\")\n",
    "print(f\"Shape: {y.shape}\")\n",
    "\n",
    "z = torch.sum(x, dim=1)\n",
    "print(f\"Values: \\n{z}\")\n",
    "print(f\"Shape: {z.shape}\")"
   ]
  },
  {
   "attachments": {},
   "cell_type": "markdown",
   "metadata": {},
   "source": [
    "## Indexing, Splicing and Joining"
   ]
  },
  {
   "cell_type": "code",
   "execution_count": 14,
   "metadata": {},
   "outputs": [
    {
     "name": "stdout",
     "output_type": "stream",
     "text": [
      "x: \n",
      "tensor([[ 0.2695, -0.2611, -0.2189,  0.6673],\n",
      "        [ 0.1421, -0.2254, -0.8187,  0.3086],\n",
      "        [-0.1409,  1.3298, -0.9942, -0.1846]])\n",
      "x[:1]: \n",
      "tensor([[ 0.2695, -0.2611, -0.2189,  0.6673]])\n",
      "x[:1, 1:3]: \n",
      "tensor([[-0.2611, -0.2189]])\n"
     ]
    }
   ],
   "source": [
    "# Indexing\n",
    "x = torch.randn(3, 4)\n",
    "print (f\"x: \\n{x}\")\n",
    "print (f\"x[:1]: \\n{x[:1]}\")\n",
    "print (f\"x[:1, 1:3]: \\n{x[:1, 1:3]}\")"
   ]
  },
  {
   "cell_type": "code",
   "execution_count": 15,
   "metadata": {},
   "outputs": [
    {
     "name": "stdout",
     "output_type": "stream",
     "text": [
      "Values: \n",
      "tensor([[-1.5813,  2.0656,  0.0815],\n",
      "        [-0.7569,  0.2151,  0.9604]])\n",
      "Values: \n",
      "tensor([[-1.5813,  0.0815],\n",
      "        [-0.7569,  0.9604]])\n",
      "Values: \n",
      "tensor([-1.5813,  0.9604])\n"
     ]
    }
   ],
   "source": [
    "# Splicing\n",
    "x = torch.randn(2, 3)\n",
    "print(f\"Values: \\n{x}\")\n",
    "\n",
    "col_indices = torch.LongTensor([0, 2])\n",
    "chosen = torch.index_select(x, dim=1, index = col_indices)\n",
    "print(f\"Values: \\n{chosen}\")\n",
    "\n",
    "row_indices = torch.LongTensor([0, 1])\n",
    "chosen = x[row_indices, col_indices]\n",
    "print(f\"Values: \\n{chosen}\")"
   ]
  },
  {
   "cell_type": "code",
   "execution_count": 16,
   "metadata": {},
   "outputs": [
    {
     "name": "stdout",
     "output_type": "stream",
     "text": [
      "Values: \n",
      "tensor([[ 0.9429,  0.0541, -0.8245,  0.9775, -0.2061],\n",
      "        [-0.0520, -0.7840, -0.7747, -0.9179,  0.4904],\n",
      "        [ 2.2701, -2.1641,  1.8631,  0.0698, -0.2198]])\n",
      "Values: \n",
      "tensor([[ 0.9429,  0.0541, -0.8245,  0.9775, -0.2061],\n",
      "        [-0.0520, -0.7840, -0.7747, -0.9179,  0.4904],\n",
      "        [ 2.2701, -2.1641,  1.8631,  0.0698, -0.2198],\n",
      "        [ 0.9429,  0.0541, -0.8245,  0.9775, -0.2061],\n",
      "        [-0.0520, -0.7840, -0.7747, -0.9179,  0.4904],\n",
      "        [ 2.2701, -2.1641,  1.8631,  0.0698, -0.2198]])\n",
      "Size: torch.Size([6, 5])\n"
     ]
    }
   ],
   "source": [
    "# Joining & Concatenation\n",
    "x = torch.randn(3, 5)\n",
    "print(f\"Values: \\n{x}\")\n",
    "y = torch.cat([x, x], dim=0)\n",
    "print(f\"Values: \\n{y}\")\n",
    "print(f\"Size: {y.shape}\")"
   ]
  },
  {
   "attachments": {},
   "cell_type": "markdown",
   "metadata": {},
   "source": [
    "## Gradients"
   ]
  },
  {
   "attachments": {},
   "cell_type": "markdown",
   "metadata": {},
   "source": [
    "$y = 3x + 2$\n",
    "\n",
    "$z = \\sum y / N$\n",
    "\n",
    "$\\frac{\\partial z}{\\partial x} = \\frac{\\partial z}{\\partial y} \\frac{\\partial y}{\\partial x} = \\frac{1}{N} \\times 3 = \\frac{1}{12} \\times 3 = \\frac{1}{4}$"
   ]
  },
  {
   "cell_type": "code",
   "execution_count": 17,
   "metadata": {},
   "outputs": [
    {
     "name": "stdout",
     "output_type": "stream",
     "text": [
      "x: \n",
      "tensor([[0.0104, 0.1743, 0.7130, 0.5399],\n",
      "        [0.0688, 0.4628, 0.7397, 0.0760],\n",
      "        [0.1594, 0.9080, 0.3168, 0.2054]], requires_grad=True)\n",
      "x.grad: \n",
      "tensor([[0.2500, 0.2500, 0.2500, 0.2500],\n",
      "        [0.2500, 0.2500, 0.2500, 0.2500],\n",
      "        [0.2500, 0.2500, 0.2500, 0.2500]])\n"
     ]
    }
   ],
   "source": [
    "x = torch.rand(3, 4, requires_grad=True)\n",
    "y = 3 * x + 2\n",
    "z = y.mean()\n",
    "z.backward()\n",
    "print(f\"x: \\n{x}\")\n",
    "print(f\"x.grad: \\n{x.grad}\")"
   ]
  },
  {
   "attachments": {},
   "cell_type": "markdown",
   "metadata": {},
   "source": [
    "## CUDA"
   ]
  },
  {
   "cell_type": "code",
   "execution_count": 18,
   "metadata": {},
   "outputs": [
    {
     "name": "stdout",
     "output_type": "stream",
     "text": [
      "False\n"
     ]
    }
   ],
   "source": [
    "print(torch.cuda.is_available())"
   ]
  },
  {
   "cell_type": "code",
   "execution_count": 19,
   "metadata": {},
   "outputs": [
    {
     "name": "stdout",
     "output_type": "stream",
     "text": [
      "cpu\n"
     ]
    }
   ],
   "source": [
    "device = torch.device(\"cuda\" if torch.cuda.is_available() else \"cpu\")\n",
    "print(device)"
   ]
  },
  {
   "cell_type": "code",
   "execution_count": 20,
   "metadata": {},
   "outputs": [
    {
     "name": "stdout",
     "output_type": "stream",
     "text": [
      "False\n"
     ]
    }
   ],
   "source": [
    "x = torch.randn(3, 5)\n",
    "print(x.is_cuda)\n"
   ]
  },
  {
   "cell_type": "code",
   "execution_count": 21,
   "metadata": {},
   "outputs": [
    {
     "name": "stdout",
     "output_type": "stream",
     "text": [
      "False\n"
     ]
    }
   ],
   "source": [
    "x = torch.randn(3, 5).to(device)\n",
    "print(x.is_cuda)"
   ]
  }
 ],
 "metadata": {
  "kernelspec": {
   "display_name": "MadeWithML",
   "language": "python",
   "name": "python3"
  },
  "language_info": {
   "codemirror_mode": {
    "name": "ipython",
    "version": 3
   },
   "file_extension": ".py",
   "mimetype": "text/x-python",
   "name": "python",
   "nbconvert_exporter": "python",
   "pygments_lexer": "ipython3",
   "version": "3.8.15"
  },
  "orig_nbformat": 4
 },
 "nbformat": 4,
 "nbformat_minor": 2
}
