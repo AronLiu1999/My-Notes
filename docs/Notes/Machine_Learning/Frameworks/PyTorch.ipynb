{
 "cells": [
  {
   "attachments": {},
   "cell_type": "markdown",
   "metadata": {},
   "source": [
    "# PyTorch\n"
   ]
  },
  {
   "attachments": {},
   "cell_type": "markdown",
   "metadata": {},
   "source": [
    "## Set Up"
   ]
  },
  {
   "cell_type": "code",
   "execution_count": 1,
   "metadata": {},
   "outputs": [],
   "source": [
    "import numpy as np\n",
    "import torch"
   ]
  },
  {
   "cell_type": "code",
   "execution_count": 2,
   "metadata": {},
   "outputs": [],
   "source": [
    "SEED = 13"
   ]
  },
  {
   "cell_type": "code",
   "execution_count": 3,
   "metadata": {},
   "outputs": [
    {
     "data": {
      "text/plain": [
       "<torch._C.Generator at 0x7fd7f0d8a230>"
      ]
     },
     "execution_count": 3,
     "metadata": {},
     "output_type": "execute_result"
    }
   ],
   "source": [
    "np.random.seed(SEED)\n",
    "torch.manual_seed(SEED)"
   ]
  },
  {
   "attachments": {},
   "cell_type": "markdown",
   "metadata": {},
   "source": [
    "## Basics"
   ]
  },
  {
   "cell_type": "code",
   "execution_count": 8,
   "metadata": {},
   "outputs": [
    {
     "name": "stdout",
     "output_type": "stream",
     "text": [
      "Type: torch.FloatTensor\n",
      "Shape: torch.Size([2, 3])\n",
      "Size: torch.Size([2, 3])\n",
      "2\n",
      "Values: \n",
      "tensor([[-0.4406,  0.7069,  0.9999],\n",
      "        [-0.8294,  1.7844, -2.4621]])\n"
     ]
    }
   ],
   "source": [
    "x = torch.randn(2, 3) # 2x3 tensor with elements sampled from standard normal distribution\n",
    "print(f\"Type: {x.type()}\")\n",
    "print(f\"Shape: {x.shape}\") # x.shape[0] = 2, x.shape[1] = 3\n",
    "print(f\"Size: {x.size()}\") # x.size(0) = 2, x.size(1) = 3\n",
    "print(f\"Values: \\n{x}\")\n"
   ]
  },
  {
   "cell_type": "code",
   "execution_count": 9,
   "metadata": {},
   "outputs": [
    {
     "name": "stdout",
     "output_type": "stream",
     "text": [
      "tensor([[0., 0., 0.],\n",
      "        [0., 0., 0.]])\n",
      "tensor([[1., 1., 1.],\n",
      "        [1., 1., 1.]])\n"
     ]
    }
   ],
   "source": [
    "x = torch.zeros(2, 3)\n",
    "print(x)\n",
    "x = torch.ones(2, 3)\n",
    "print(x)"
   ]
  },
  {
   "cell_type": "code",
   "execution_count": 10,
   "metadata": {},
   "outputs": [
    {
     "name": "stdout",
     "output_type": "stream",
     "text": [
      "Size: torch.Size([2, 3])\n",
      "Values: \n",
      "tensor([[1., 2., 3.],\n",
      "        [4., 5., 6.]])\n"
     ]
    }
   ],
   "source": [
    "x = torch.Tensor([[1, 2, 3], [4, 5, 6]])\n",
    "print(f\"Size: {x.shape}\")\n",
    "print(f\"Values: \\n{x}\")"
   ]
  },
  {
   "cell_type": "code",
   "execution_count": 11,
   "metadata": {},
   "outputs": [
    {
     "name": "stdout",
     "output_type": "stream",
     "text": [
      "Size: torch.Size([3, 4])\n",
      "Type: torch.FloatTensor\n",
      "Values: \n",
      "tensor([[0., 0., 0., 0.],\n",
      "        [0., 0., 0., 0.],\n",
      "        [0., 0., 0., 0.]])\n",
      "Type: torch.LongTensor\n",
      "Values: \n",
      "tensor([[0, 0, 0, 0],\n",
      "        [0, 0, 0, 0],\n",
      "        [0, 0, 0, 0]])\n"
     ]
    }
   ],
   "source": [
    "x = torch.Tensor(3, 4)\n",
    "print(f\"Size: {x.shape}\")\n",
    "print(f\"Type: {x.type()}\")\n",
    "print(f\"Values: \\n{x}\")\n",
    "\n",
    "x = x.long()\n",
    "print(f\"Type: {x.type()}\")\n",
    "print(f\"Values: \\n{x}\")"
   ]
  },
  {
   "attachments": {},
   "cell_type": "markdown",
   "metadata": {},
   "source": [
    "## Operations"
   ]
  },
  {
   "cell_type": "code",
   "execution_count": 12,
   "metadata": {},
   "outputs": [
    {
     "name": "stdout",
     "output_type": "stream",
     "text": [
      "Size: torch.Size([3, 5])\n",
      "Values: \n",
      "tensor([[ 0.3233, -0.0436, -2.6316,  1.4815, -0.3328],\n",
      "        [ 1.3547,  2.9480, -0.3390, -1.3738,  0.2870],\n",
      "        [-1.3033, -1.0380,  1.2862,  1.3678, -0.1132]])\n"
     ]
    }
   ],
   "source": [
    "# Addition\n",
    "x = torch.randn(3, 5)\n",
    "y = torch.randn(3, 5)\n",
    "z = x + y\n",
    "print(f\"Size: {z.shape}\")\n",
    "print(f\"Values: \\n{z}\")\n"
   ]
  },
  {
   "cell_type": "code",
   "execution_count": 13,
   "metadata": {},
   "outputs": [
    {
     "name": "stdout",
     "output_type": "stream",
     "text": [
      "Size: torch.Size([3, 3])\n",
      "Values: \n",
      "tensor([[ 0.9100, -0.3729,  0.8425],\n",
      "        [ 3.1695,  1.4920, -1.0507],\n",
      "        [ 5.0806,  2.9653, -0.1704]])\n"
     ]
    }
   ],
   "source": [
    "# Dot product\n",
    "x = torch.randn(3, 5)\n",
    "y = torch.randn(5, 3)\n",
    "z = torch.mm(x, y)\n",
    "print(f\"Size: {z.shape}\")\n",
    "print(f\"Values: \\n{z}\")"
   ]
  },
  {
   "cell_type": "code",
   "execution_count": 14,
   "metadata": {},
   "outputs": [
    {
     "name": "stdout",
     "output_type": "stream",
     "text": [
      "Size: torch.Size([3, 5])\n",
      "Values: \n",
      "tensor([[-1.3377, -1.9918,  1.0226, -1.2937, -0.8858],\n",
      "        [ 2.0733, -0.1818, -1.5408, -1.7559,  0.3658],\n",
      "        [ 0.8208, -0.6577,  0.1664, -1.1094,  0.5930]])\n",
      "Size: torch.Size([5, 3])\n",
      "Values: \n",
      "tensor([[-1.3377,  2.0733,  0.8208],\n",
      "        [-1.9918, -0.1818, -0.6577],\n",
      "        [ 1.0226, -1.5408,  0.1664],\n",
      "        [-1.2937, -1.7559, -1.1094],\n",
      "        [-0.8858,  0.3658,  0.5930]])\n"
     ]
    }
   ],
   "source": [
    "# Transpose\n",
    "x = torch.randn(3, 5)\n",
    "print(f\"Size: {x.shape}\")\n",
    "print(f\"Values: \\n{x}\")\n",
    "\n",
    "y = torch.t(x)\n",
    "print(f\"Size: {y.shape}\")\n",
    "print(F\"Values: \\n{y}\")\n"
   ]
  },
  {
   "cell_type": "code",
   "execution_count": 15,
   "metadata": {},
   "outputs": [
    {
     "name": "stdout",
     "output_type": "stream",
     "text": [
      "Size: torch.Size([5, 3])\n",
      "Values: \n",
      "tensor([[-0.2506,  0.6856, -0.6429],\n",
      "        [ 1.0606, -0.2093,  1.7014],\n",
      "        [-0.5920, -1.0155,  0.0900],\n",
      "        [-0.3933,  0.6828,  1.8321],\n",
      "        [ 0.1098, -0.8053,  1.8844]])\n"
     ]
    }
   ],
   "source": [
    "# Reshape\n",
    "x = torch.randn(3, 5)\n",
    "z = x.view(5, 3) # view() is similar to numpy's reshape()\n",
    "print(f\"Size: {z.shape}\")\n",
    "print(f\"Values: \\n{z}\")\n"
   ]
  },
  {
   "cell_type": "code",
   "execution_count": 17,
   "metadata": {},
   "outputs": [
    {
     "name": "stdout",
     "output_type": "stream",
     "text": [
      "Size: torch.Size([2, 3, 4])\n",
      "x: \n",
      "tensor([[[ 1,  1,  1,  1],\n",
      "         [ 2,  2,  2,  2],\n",
      "         [ 3,  3,  3,  3]],\n",
      "\n",
      "        [[10, 10, 10, 10],\n",
      "         [20, 20, 20, 20],\n",
      "         [30, 30, 30, 30]]])\n",
      "\n",
      "\n",
      "Size: torch.Size([3, 8])\n",
      "a: \n",
      "tensor([[ 1,  1,  1,  1,  2,  2,  2,  2],\n",
      "        [ 3,  3,  3,  3, 10, 10, 10, 10],\n",
      "        [20, 20, 20, 20, 30, 30, 30, 30]])\n",
      "\n",
      "\n",
      "Size: torch.Size([3, 2, 4])\n",
      "b: \n",
      "tensor([[[ 1,  1,  1,  1],\n",
      "         [10, 10, 10, 10]],\n",
      "\n",
      "        [[ 2,  2,  2,  2],\n",
      "         [20, 20, 20, 20]],\n",
      "\n",
      "        [[ 3,  3,  3,  3],\n",
      "         [30, 30, 30, 30]]])\n",
      "\n",
      "\n",
      "Size: torch.Size([3, 8])\n",
      "c: \n",
      "tensor([[ 1,  1,  1,  1, 10, 10, 10, 10],\n",
      "        [ 2,  2,  2,  2, 20, 20, 20, 20],\n",
      "        [ 3,  3,  3,  3, 30, 30, 30, 30]])\n"
     ]
    }
   ],
   "source": [
    "# Dangers of reshaping (unintended consequences)\n",
    "x = torch.tensor([\n",
    "    [[1,1,1,1], [2,2,2,2], [3,3,3,3]],\n",
    "    [[10,10,10,10], [20,20,20,20], [30,30,30,30]]\n",
    "])\n",
    "print(f\"Size: {x.shape}\")\n",
    "print(f\"x: \\n{x}\\n\")\n",
    "\n",
    "a = x.view(x.size(1), -1)\n",
    "print(f\"\\nSize: {a.shape}\")\n",
    "print(f\"a: \\n{a}\\n\")\n",
    "\n",
    "b = x.transpose(0,1).contiguous()\n",
    "print(f\"\\nSize: {b.shape}\")\n",
    "print(f\"b: \\n{b}\\n\")\n",
    "\n",
    "c = b.view(b.size(0), -1)\n",
    "print(f\"\\nSize: {c.shape}\")\n",
    "print(f\"c: \\n{c}\")"
   ]
  },
  {
   "cell_type": "code",
   "execution_count": 18,
   "metadata": {},
   "outputs": [
    {
     "name": "stdout",
     "output_type": "stream",
     "text": [
      "Values: \n",
      "tensor([[[-1.0289, -0.5078, -0.4231, -0.4975,  1.4085],\n",
      "         [-0.1853, -1.3571,  0.2369,  0.9741, -1.7030],\n",
      "         [ 1.1677, -1.7351,  0.3593, -0.1591,  0.8326]],\n",
      "\n",
      "        [[-1.1986,  0.3564,  1.3168,  0.4175, -1.5278],\n",
      "         [-0.8360, -0.6593,  1.5188,  0.6603,  0.9863],\n",
      "         [ 0.9969,  1.1030, -0.0773, -0.0147,  0.8177]]])\n",
      "Values: \n",
      "tensor([[-2.2275, -0.1514,  0.8937, -0.0800, -0.1193],\n",
      "        [-1.0212, -2.0164,  1.7557,  1.6343, -0.7167],\n",
      "        [ 2.1646, -0.6322,  0.2819, -0.1737,  1.6503]])\n",
      "Shape: torch.Size([3, 5])\n",
      "Values: \n",
      "tensor([[-0.0465, -3.6001,  0.1731,  0.3175,  0.5381],\n",
      "        [-1.0376,  0.8001,  2.7583,  1.0631,  0.2761]])\n",
      "Shape: torch.Size([2, 5])\n"
     ]
    }
   ],
   "source": [
    "# Dimensional Operations\n",
    "\n",
    "x = torch.randn(2, 3, 5)\n",
    "print(f\"Values: \\n{x}\")\n",
    "\n",
    "y = torch.sum(x, dim=0)\n",
    "print(f\"Values: \\n{y}\")\n",
    "print(f\"Shape: {y.shape}\")\n",
    "\n",
    "z = torch.sum(x, dim=1)\n",
    "print(f\"Values: \\n{z}\")\n",
    "print(f\"Shape: {z.shape}\")"
   ]
  },
  {
   "attachments": {},
   "cell_type": "markdown",
   "metadata": {},
   "source": [
    "## Indexing, Splicing and Joining"
   ]
  },
  {
   "cell_type": "code",
   "execution_count": 19,
   "metadata": {},
   "outputs": [
    {
     "name": "stdout",
     "output_type": "stream",
     "text": [
      "x: \n",
      "tensor([[-0.7840, -0.7747, -0.9179,  0.4904],\n",
      "        [ 2.2701, -2.1641,  1.8631,  0.0698],\n",
      "        [-0.2198,  1.7412,  1.3517,  0.7791]])\n",
      "x[:1]: \n",
      "tensor([[-0.7840, -0.7747, -0.9179,  0.4904]])\n",
      "x[:1, 1:3]: \n",
      "tensor([[-0.7747, -0.9179]])\n"
     ]
    }
   ],
   "source": [
    "# Indexing\n",
    "x = torch.randn(3, 4)\n",
    "print (f\"x: \\n{x}\")\n",
    "print (f\"x[:1]: \\n{x[:1]}\")\n",
    "print (f\"x[:1, 1:3]: \\n{x[:1, 1:3]}\")"
   ]
  },
  {
   "cell_type": "code",
   "execution_count": 20,
   "metadata": {},
   "outputs": [
    {
     "name": "stdout",
     "output_type": "stream",
     "text": [
      "Values: \n",
      "tensor([[-2.1216, -0.6979, -0.1950],\n",
      "        [ 1.2209, -0.7639, -0.5570]])\n",
      "Values: \n",
      "tensor([[-2.1216, -0.1950],\n",
      "        [ 1.2209, -0.5570]])\n",
      "Values: \n",
      "tensor([-2.1216, -0.5570])\n"
     ]
    }
   ],
   "source": [
    "# Splicing\n",
    "x = torch.randn(2, 3)\n",
    "print(f\"Values: \\n{x}\")\n",
    "\n",
    "col_indices = torch.LongTensor([0, 2])\n",
    "chosen = torch.index_select(x, dim=1, index = col_indices)\n",
    "print(f\"Values: \\n{chosen}\")\n",
    "\n",
    "row_indices = torch.LongTensor([0, 1])\n",
    "chosen = x[row_indices, col_indices]\n",
    "print(f\"Values: \\n{chosen}\")"
   ]
  },
  {
   "cell_type": "code",
   "execution_count": 22,
   "metadata": {},
   "outputs": [
    {
     "name": "stdout",
     "output_type": "stream",
     "text": [
      "Values: \n",
      "tensor([[-0.1667,  2.2473,  0.8457, -0.6124, -0.5656],\n",
      "        [ 0.0434, -0.4750, -2.4320, -0.7770,  0.2803],\n",
      "        [ 0.9992, -0.3607,  1.3189, -0.4596,  0.1660]])\n",
      "Values: \n",
      "tensor([[-0.1667,  2.2473,  0.8457, -0.6124, -0.5656],\n",
      "        [ 0.0434, -0.4750, -2.4320, -0.7770,  0.2803],\n",
      "        [ 0.9992, -0.3607,  1.3189, -0.4596,  0.1660],\n",
      "        [-0.1667,  2.2473,  0.8457, -0.6124, -0.5656],\n",
      "        [ 0.0434, -0.4750, -2.4320, -0.7770,  0.2803],\n",
      "        [ 0.9992, -0.3607,  1.3189, -0.4596,  0.1660]])\n",
      "Size: torch.Size([6, 5])\n"
     ]
    }
   ],
   "source": [
    "# Joining & Concatenation\n",
    "x = torch.randn(3, 5)\n",
    "print(f\"Values: \\n{x}\")\n",
    "y = torch.cat([x, x], dim=0)\n",
    "print(f\"Values: \\n{y}\")\n",
    "print(f\"Size: {y.shape}\")"
   ]
  },
  {
   "attachments": {},
   "cell_type": "markdown",
   "metadata": {},
   "source": [
    "## Gradients"
   ]
  },
  {
   "attachments": {},
   "cell_type": "markdown",
   "metadata": {},
   "source": [
    "$y = 3x + 2$\n",
    "\n",
    "$z = \\sum y / N$\n",
    "\n",
    "$\\frac{\\partial z}{\\partial x} = \\frac{\\partial z}{\\partial y} \\frac{\\partial y}{\\partial x} = \\frac{1}{N} \\times 3 = \\frac{1}{12} \\times 3 = \\frac{1}{4}$"
   ]
  },
  {
   "cell_type": "code",
   "execution_count": 23,
   "metadata": {},
   "outputs": [
    {
     "name": "stdout",
     "output_type": "stream",
     "text": [
      "x: \n",
      "tensor([[0.3776, 0.5684, 0.9340, 0.2461],\n",
      "        [0.6760, 0.4133, 0.7686, 0.8189],\n",
      "        [0.4689, 0.7358, 0.4311, 0.5170]], requires_grad=True)\n",
      "x.grad: \n",
      "tensor([[0.2500, 0.2500, 0.2500, 0.2500],\n",
      "        [0.2500, 0.2500, 0.2500, 0.2500],\n",
      "        [0.2500, 0.2500, 0.2500, 0.2500]])\n"
     ]
    }
   ],
   "source": [
    "x = torch.rand(3, 4, requires_grad=True)\n",
    "y = 3 * x + 2\n",
    "z = y.mean()\n",
    "z.backward()\n",
    "print(f\"x: \\n{x}\")\n",
    "print(f\"x.grad: \\n{x.grad}\")"
   ]
  },
  {
   "attachments": {},
   "cell_type": "markdown",
   "metadata": {},
   "source": [
    "## CUDA"
   ]
  },
  {
   "cell_type": "code",
   "execution_count": 24,
   "metadata": {},
   "outputs": [
    {
     "name": "stdout",
     "output_type": "stream",
     "text": [
      "False\n"
     ]
    }
   ],
   "source": [
    "print(torch.cuda.is_available())"
   ]
  },
  {
   "cell_type": "code",
   "execution_count": 25,
   "metadata": {},
   "outputs": [
    {
     "name": "stdout",
     "output_type": "stream",
     "text": [
      "cpu\n"
     ]
    }
   ],
   "source": [
    "device = torch.device(\"cuda\" if torch.cuda.is_available() else \"cpu\")\n",
    "print(device)"
   ]
  },
  {
   "cell_type": "code",
   "execution_count": 26,
   "metadata": {},
   "outputs": [
    {
     "name": "stdout",
     "output_type": "stream",
     "text": [
      "False\n"
     ]
    }
   ],
   "source": [
    "x = torch.randn(3, 5)\n",
    "print(x.is_cuda)\n"
   ]
  },
  {
   "cell_type": "code",
   "execution_count": 27,
   "metadata": {},
   "outputs": [
    {
     "name": "stdout",
     "output_type": "stream",
     "text": [
      "False\n"
     ]
    }
   ],
   "source": [
    "x = torch.randn(3, 5).to(device)\n",
    "print(x.is_cuda)"
   ]
  }
 ],
 "metadata": {
  "kernelspec": {
   "display_name": "MadeWithML",
   "language": "python",
   "name": "python3"
  },
  "language_info": {
   "codemirror_mode": {
    "name": "ipython",
    "version": 3
   },
   "file_extension": ".py",
   "mimetype": "text/x-python",
   "name": "python",
   "nbconvert_exporter": "python",
   "pygments_lexer": "ipython3",
   "version": "3.8.15"
  },
  "orig_nbformat": 4
 },
 "nbformat": 4,
 "nbformat_minor": 2
}
